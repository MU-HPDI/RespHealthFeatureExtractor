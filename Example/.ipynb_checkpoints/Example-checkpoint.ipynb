{
 "cells": [
  {
   "cell_type": "code",
   "execution_count": 4,
   "metadata": {},
   "outputs": [],
   "source": [
    "#! pip install RespFeatureExtractor-1.0-py3-none-any.whl"
   ]
  },
  {
   "cell_type": "code",
   "execution_count": 1,
   "metadata": {},
   "outputs": [],
   "source": [
    "import pandas as pd\n",
    "import numpy as np\n",
    "import matplotlib.pyplot as plt\n",
    "\n",
    "from PeakDetection import Find_Peaks\n",
    "from RespFeatureExtractor import RespFeatureExtract #Package Call\n"
   ]
  },
  {
   "cell_type": "markdown",
   "metadata": {},
   "source": [
    "## Signal PreProcessing steps"
   ]
  },
  {
   "cell_type": "markdown",
   "metadata": {},
   "source": [
    "### Step 1: Applying low pass Butterworth filter: This step would vary depending upon one's signal data extractions\n",
    "There are three types of filters low-pass, high-pass, band-pass and band-stop. \n",
    "\n",
    "If the signal is complex, this step is needed, else not. There could be more steps required but that all comes under signal processing which is not the part of the paper. But just to give a simple pipeline experience we are providing a simple step of Butterworth low pass filter here.\n",
    "\n",
    "\n",
    "#### Hydraulic Bed Sensor Data: \n",
    "Example.csv contains the signal values from hydraulic bed sensor (HBS), which collects data unobtrusively. This sensor is placed under the mattress, while an individual can sleep comfortably on top of the mattress. Data is collected as pressure signals from top of the mattress. HBS is highly sensitive to capture the small change in pressure forces generated and transferred through the mattress due to residents’ heartbeats, respiration, and restless movements. "
   ]
  },
  {
   "cell_type": "code",
   "execution_count": 2,
   "metadata": {},
   "outputs": [
    {
     "data": {
      "text/html": [
       "<div>\n",
       "<style scoped>\n",
       "    .dataframe tbody tr th:only-of-type {\n",
       "        vertical-align: middle;\n",
       "    }\n",
       "\n",
       "    .dataframe tbody tr th {\n",
       "        vertical-align: top;\n",
       "    }\n",
       "\n",
       "    .dataframe thead th {\n",
       "        text-align: right;\n",
       "    }\n",
       "</style>\n",
       "<table border=\"1\" class=\"dataframe\">\n",
       "  <thead>\n",
       "    <tr style=\"text-align: right;\">\n",
       "      <th></th>\n",
       "      <th>Signal_values</th>\n",
       "      <th>TimeStamp</th>\n",
       "    </tr>\n",
       "  </thead>\n",
       "  <tbody>\n",
       "    <tr>\n",
       "      <th>0</th>\n",
       "      <td>2077</td>\n",
       "      <td>2019-03-01 01:55:25.205</td>\n",
       "    </tr>\n",
       "    <tr>\n",
       "      <th>1</th>\n",
       "      <td>2073</td>\n",
       "      <td>2019-03-01 01:55:25.215</td>\n",
       "    </tr>\n",
       "    <tr>\n",
       "      <th>2</th>\n",
       "      <td>2070</td>\n",
       "      <td>2019-03-01 01:55:25.225</td>\n",
       "    </tr>\n",
       "    <tr>\n",
       "      <th>3</th>\n",
       "      <td>2072</td>\n",
       "      <td>2019-03-01 01:55:25.235</td>\n",
       "    </tr>\n",
       "    <tr>\n",
       "      <th>4</th>\n",
       "      <td>2081</td>\n",
       "      <td>2019-03-01 01:55:25.245</td>\n",
       "    </tr>\n",
       "  </tbody>\n",
       "</table>\n",
       "</div>"
      ],
      "text/plain": [
       "   Signal_values                TimeStamp\n",
       "0           2077  2019-03-01 01:55:25.205\n",
       "1           2073  2019-03-01 01:55:25.215\n",
       "2           2070  2019-03-01 01:55:25.225\n",
       "3           2072  2019-03-01 01:55:25.235\n",
       "4           2081  2019-03-01 01:55:25.245"
      ]
     },
     "execution_count": 2,
     "metadata": {},
     "output_type": "execute_result"
    }
   ],
   "source": [
    "#Signal Import\n",
    "Signal=pd.read_csv(\"Example_Signal.csv\",index_col=False)\n",
    "Signal.head()"
   ]
  },
  {
   "cell_type": "code",
   "execution_count": 3,
   "metadata": {},
   "outputs": [
    {
     "name": "stdout",
     "output_type": "stream",
     "text": [
      "Signal_values     int64\n",
      "TimeStamp        object\n",
      "dtype: object\n"
     ]
    }
   ],
   "source": [
    "print(Signal.dtypes)"
   ]
  },
  {
   "cell_type": "markdown",
   "metadata": {},
   "source": [
    "#### Plotting part of original signal"
   ]
  },
  {
   "cell_type": "code",
   "execution_count": 4,
   "metadata": {},
   "outputs": [
    {
     "data": {
      "text/plain": [
       "<matplotlib.axes._subplots.AxesSubplot at 0x7fbcd1000278>"
      ]
     },
     "execution_count": 4,
     "metadata": {},
     "output_type": "execute_result"
    },
    {
     "data": {
      "image/png": "[encoded data removed]",
      "text/plain": [
       "<Figure size 432x288 with 1 Axes>"
      ]
     },
     "metadata": {
      "needs_background": "light"
     },
     "output_type": "display_data"
    }
   ],
   "source": [
    "# Plot Signal\n",
    "Signal[1000:5000].plot()"
   ]
  },
  {
   "cell_type": "markdown",
   "metadata": {},
   "source": [
    "#### Apply Butterworth filter"
   ]
  },
  {
   "cell_type": "code",
   "execution_count": 5,
   "metadata": {},
   "outputs": [],
   "source": [
    "# Apply Butter worth\n",
    "from scipy.signal import butter, filtfilt\n",
    "\n",
    "def butter_lowpass_filter(data):\n",
    "    filterorder = 2 \n",
    "    fc_down=0.7\n",
    "    cutoff=0.014 # fc_down/(fs/2) [fs is frequency of samples which is 100 samples/sec. This comes from previous signal processing steps]\n",
    "    # Get the filter coefficients\n",
    "    b, a = butter(filterorder, cutoff, btype='low')#,analog=True)#, analog=False)\n",
    "    y = filtfilt(b, a, data)\n",
    "    return y\n",
    "\n",
    "Signal['Filtered_Signal_values']=butter_lowpass_filter(Signal['Signal_values'])\n",
    "Signal=Signal.drop(columns=['Signal_values'])\n",
    "#Signal.head()\n",
    "\n"
   ]
  },
  {
   "cell_type": "markdown",
   "metadata": {},
   "source": [
    "#### Plot the Butterworth filtered signal"
   ]
  },
  {
   "cell_type": "code",
   "execution_count": 6,
   "metadata": {},
   "outputs": [
    {
     "data": {
      "text/plain": [
       "<matplotlib.axes._subplots.AxesSubplot at 0x7fbcceee0da0>"
      ]
     },
     "execution_count": 6,
     "metadata": {},
     "output_type": "execute_result"
    },
    {
     "data": {
      "image/png": "[encoded data removed]",
      "text/plain": [
       "<Figure size 432x288 with 1 Axes>"
      ]
     },
     "metadata": {
      "needs_background": "light"
     },
     "output_type": "display_data"
    }
   ],
   "source": [
    "# Plot signal after butter worth\n",
    "Signal['Filtered_Signal_values'][1000:5000].plot()"
   ]
  },
  {
   "cell_type": "code",
   "execution_count": 7,
   "metadata": {},
   "outputs": [],
   "source": [
    "#Signal=Signal[1000:5000]"
   ]
  },
  {
   "cell_type": "markdown",
   "metadata": {},
   "source": [
    "### Step 2: Peak Detection in Butterworth filtered signal"
   ]
  },
  {
   "cell_type": "markdown",
   "metadata": {},
   "source": [
    "There are plenty of options to do peak detection. Below are few of the links to different kind of peak detection as per the signal data. Since we anticipate the data to come from different kind of sensor data so these links might help. However depending upon the suitability of the current signal, we are using a variation of the Scipy library's find_peaks to find peaks and valleys.\n",
    "#https://stackoverflow.com/questions/50756793/peak-detection-algorithm-in-python\n",
    "#https://www.samproell.io/posts/signal/peak-finding-python-js/\n",
    "#https://github.com/MonsieurV/py-findpeaks\n",
    "\n",
    "\n"
   ]
  },
  {
   "cell_type": "markdown",
   "metadata": {},
   "source": [
    "#### Finding peaks and valleys"
   ]
  },
  {
   "cell_type": "code",
   "execution_count": 8,
   "metadata": {},
   "outputs": [
    {
     "data": {
      "text/html": [
       "<div>\n",
       "<style scoped>\n",
       "    .dataframe tbody tr th:only-of-type {\n",
       "        vertical-align: middle;\n",
       "    }\n",
       "\n",
       "    .dataframe tbody tr th {\n",
       "        vertical-align: top;\n",
       "    }\n",
       "\n",
       "    .dataframe thead th {\n",
       "        text-align: right;\n",
       "    }\n",
       "</style>\n",
       "<table border=\"1\" class=\"dataframe\">\n",
       "  <thead>\n",
       "    <tr style=\"text-align: right;\">\n",
       "      <th></th>\n",
       "      <th>Label_PV</th>\n",
       "      <th>SignalValue_PV</th>\n",
       "      <th>TimeStamp_PV</th>\n",
       "      <th>INDEX</th>\n",
       "    </tr>\n",
       "  </thead>\n",
       "  <tbody>\n",
       "    <tr>\n",
       "      <th>0</th>\n",
       "      <td>1</td>\n",
       "      <td>2091.639569</td>\n",
       "      <td>2019-03-01 01:55:25.535</td>\n",
       "      <td>29</td>\n",
       "    </tr>\n",
       "    <tr>\n",
       "      <th>1</th>\n",
       "      <td>-1</td>\n",
       "      <td>2041.238816</td>\n",
       "      <td>2019-03-01 01:55:26.965</td>\n",
       "      <td>172</td>\n",
       "    </tr>\n",
       "    <tr>\n",
       "      <th>2</th>\n",
       "      <td>1</td>\n",
       "      <td>2042.527869</td>\n",
       "      <td>2019-03-01 01:55:27.435</td>\n",
       "      <td>219</td>\n",
       "    </tr>\n",
       "    <tr>\n",
       "      <th>3</th>\n",
       "      <td>-1</td>\n",
       "      <td>2005.688170</td>\n",
       "      <td>2019-03-01 01:55:29.205</td>\n",
       "      <td>396</td>\n",
       "    </tr>\n",
       "    <tr>\n",
       "      <th>4</th>\n",
       "      <td>1</td>\n",
       "      <td>2080.047772</td>\n",
       "      <td>2019-03-01 01:55:30.295</td>\n",
       "      <td>505</td>\n",
       "    </tr>\n",
       "  </tbody>\n",
       "</table>\n",
       "</div>"
      ],
      "text/plain": [
       "   Label_PV  SignalValue_PV             TimeStamp_PV  INDEX\n",
       "0         1     2091.639569  2019-03-01 01:55:25.535     29\n",
       "1        -1     2041.238816  2019-03-01 01:55:26.965    172\n",
       "2         1     2042.527869  2019-03-01 01:55:27.435    219\n",
       "3        -1     2005.688170  2019-03-01 01:55:29.205    396\n",
       "4         1     2080.047772  2019-03-01 01:55:30.295    505"
      ]
     },
     "execution_count": 8,
     "metadata": {},
     "output_type": "execute_result"
    }
   ],
   "source": [
    "# Find indices of peaks\n",
    "Peaks_Valleys=Find_Peaks(Signal[['Filtered_Signal_values','TimeStamp']],'Filtered_Signal_values')\n",
    "Peaks_Valleys.head()"
   ]
  },
  {
   "cell_type": "markdown",
   "metadata": {},
   "source": [
    "#### Plotting peaks and valleys in the signal data (Showing a snippet of the whole signal)"
   ]
  },
  {
   "cell_type": "code",
   "execution_count": 9,
   "metadata": {},
   "outputs": [
    {
     "data": {
      "image/png": "[encoded data removed]",
      "text/plain": [
       "<Figure size 432x288 with 1 Axes>"
      ]
     },
     "metadata": {
      "needs_background": "light"
     },
     "output_type": "display_data"
    }
   ],
   "source": [
    "#Just to Plot, Subsetting \n",
    "df_Peaks=Peaks_Valleys[3:25]\n",
    "Peaks_Index=df_Peaks[df_Peaks['Label_PV']==1]['INDEX'].to_list()\n",
    "Valleys_Index=df_Peaks[df_Peaks['Label_PV']==-1]['INDEX'].to_list()\n",
    "maxLimit=df_Peaks['INDEX'].max()\n",
    "df_Peaks=df_Peaks.drop(columns=['INDEX'])\n",
    "\n",
    "\n",
    "#Plot Peaks and Valleys\n",
    "Signal.index += 1\n",
    "Signal['index'] = np.arange(1, len(Signal)+1)\n",
    "\n",
    "x = np.array(Signal['index'][0:maxLimit+5].to_list())\n",
    "y = np.array(Signal['Filtered_Signal_values'][0:maxLimit+5].to_list()) #np.array()\n",
    "\n",
    "\n",
    "plt.plot(x,y)\n",
    "plt.plot(Peaks_Index, y[Peaks_Index], \".\",color=\"red\")\n",
    "plt.plot(Valleys_Index, y[Valleys_Index], \"*\",color=\"green\")\n",
    "plt.show()"
   ]
  },
  {
   "cell_type": "markdown",
   "metadata": {},
   "source": [
    "# <font color='blue'> RespFeatureExtractor </font>"
   ]
  },
  {
   "cell_type": "markdown",
   "metadata": {},
   "source": [
    "## <font color='green'> For Package Functionality: (a) Feature extraction in the continuous signal data\n",
    "For continuous data, this functionality is used. The data is automatically segmented into the window size provided by the user.</font>\n",
    "\n",
    "### <font color='green'>Package Name:  RespFeatureExtract</font>\n",
    "__Input Parameters are as follows:__\n",
    "\n",
    "__PV__ (required): is the pandas dataframe name containing peaks and valleys label. Peaks should be labeled as 1 and valleys as -1.   \n",
    "__Peak_Valley_Label__ (required): Takes the name of the column same which contains labels for peaks and valleys.  \n",
    "__Sig_val_Col__ (required): Takes the name of the column which has corresponding signal values for peaks and valleys.  __timestamp_col__ (required): Take s the name of the column containing the timestamps for the corresponding peaks and valleys.  \n",
    "__window__ (optional): Takes the window size in seconds, in which data need to be segmented. Default is 60 sec.  \n",
    "__cpu_cores__ (optional): Takes the number of cpu cores you wish to use during this process. Default is cpu_cores=1.  "
   ]
  },
  {
   "cell_type": "code",
   "execution_count": 14,
   "metadata": {},
   "outputs": [
    {
     "data": {
      "text/html": [
       "<div>\n",
       "<style scoped>\n",
       "    .dataframe tbody tr th:only-of-type {\n",
       "        vertical-align: middle;\n",
       "    }\n",
       "\n",
       "    .dataframe tbody tr th {\n",
       "        vertical-align: top;\n",
       "    }\n",
       "\n",
       "    .dataframe thead th {\n",
       "        text-align: right;\n",
       "    }\n",
       "</style>\n",
       "<table border=\"1\" class=\"dataframe\">\n",
       "  <thead>\n",
       "    <tr style=\"text-align: right;\">\n",
       "      <th></th>\n",
       "      <th>Start</th>\n",
       "      <th>End</th>\n",
       "      <th>RMSSD</th>\n",
       "      <th>MDI</th>\n",
       "      <th>MADI</th>\n",
       "      <th>RespRate</th>\n",
       "      <th>RMS_DA</th>\n",
       "      <th>RMI</th>\n",
       "      <th>BPI</th>\n",
       "    </tr>\n",
       "  </thead>\n",
       "  <tbody>\n",
       "    <tr>\n",
       "      <th>0</th>\n",
       "      <td>2019-03-01 01:57:28.200</td>\n",
       "      <td>2019-03-01 01:58:23.830</td>\n",
       "      <td>0.084735</td>\n",
       "      <td>0.070000</td>\n",
       "      <td>0.13</td>\n",
       "      <td>14</td>\n",
       "      <td>0.992770</td>\n",
       "      <td>0.409382</td>\n",
       "      <td>0.166013</td>\n",
       "    </tr>\n",
       "    <tr>\n",
       "      <th>1</th>\n",
       "      <td>2019-03-01 01:55:25.535</td>\n",
       "      <td>2019-03-01 01:56:22.830</td>\n",
       "      <td>0.503177</td>\n",
       "      <td>0.255833</td>\n",
       "      <td>1.22</td>\n",
       "      <td>16</td>\n",
       "      <td>0.989887</td>\n",
       "      <td>0.380938</td>\n",
       "      <td>0.219107</td>\n",
       "    </tr>\n",
       "    <tr>\n",
       "      <th>2</th>\n",
       "      <td>2019-03-01 01:56:25.640</td>\n",
       "      <td>2019-03-01 01:57:25.270</td>\n",
       "      <td>0.042426</td>\n",
       "      <td>0.036667</td>\n",
       "      <td>0.07</td>\n",
       "      <td>15</td>\n",
       "      <td>0.992143</td>\n",
       "      <td>0.382580</td>\n",
       "      <td>0.183292</td>\n",
       "    </tr>\n",
       "    <tr>\n",
       "      <th>3</th>\n",
       "      <td>2019-03-01 01:58:26.815</td>\n",
       "      <td>2019-03-01 01:59:24.565</td>\n",
       "      <td>0.185701</td>\n",
       "      <td>0.155000</td>\n",
       "      <td>0.31</td>\n",
       "      <td>14</td>\n",
       "      <td>0.993324</td>\n",
       "      <td>0.376427</td>\n",
       "      <td>0.168376</td>\n",
       "    </tr>\n",
       "    <tr>\n",
       "      <th>4</th>\n",
       "      <td>2019-03-01 01:59:25.725</td>\n",
       "      <td>2019-03-01 02:00:24.075</td>\n",
       "      <td>0.099800</td>\n",
       "      <td>0.076000</td>\n",
       "      <td>0.18</td>\n",
       "      <td>15</td>\n",
       "      <td>1.000799</td>\n",
       "      <td>0.382431</td>\n",
       "      <td>0.174789</td>\n",
       "    </tr>\n",
       "  </tbody>\n",
       "</table>\n",
       "</div>"
      ],
      "text/plain": [
       "                    Start                     End     RMSSD       MDI  MADI  \\\n",
       "0 2019-03-01 01:57:28.200 2019-03-01 01:58:23.830  0.084735  0.070000  0.13   \n",
       "1 2019-03-01 01:55:25.535 2019-03-01 01:56:22.830  0.503177  0.255833  1.22   \n",
       "2 2019-03-01 01:56:25.640 2019-03-01 01:57:25.270  0.042426  0.036667  0.07   \n",
       "3 2019-03-01 01:58:26.815 2019-03-01 01:59:24.565  0.185701  0.155000  0.31   \n",
       "4 2019-03-01 01:59:25.725 2019-03-01 02:00:24.075  0.099800  0.076000  0.18   \n",
       "\n",
       "   RespRate    RMS_DA       RMI       BPI  \n",
       "0        14  0.992770  0.409382  0.166013  \n",
       "1        16  0.989887  0.380938  0.219107  \n",
       "2        15  0.992143  0.382580  0.183292  \n",
       "3        14  0.993324  0.376427  0.168376  \n",
       "4        15  1.000799  0.382431  0.174789  "
      ]
     },
     "execution_count": 14,
     "metadata": {},
     "output_type": "execute_result"
    }
   ],
   "source": [
    "#import RespFeatureExtract\n",
    "FeaturesExtracted=RespFeatureExtract(PV=Peaks_Valleys,Peak_Valley_Label='Label_PV',Sig_val_Col='SignalValue_PV',timestamp_col='TimeStamp_PV',window=60,cpu_cores=3)\n",
    "FeaturesExtracted.head()\n"
   ]
  },
  {
   "cell_type": "markdown",
   "metadata": {},
   "source": [
    "## <font color='green'> For Package Functionality: (b) Feature extraction in the pre-segmented signal data </font>"
   ]
  },
  {
   "cell_type": "markdown",
   "metadata": {},
   "source": [
    "This package is more focused on getting the features from a given segmented time window. In this case the user has the leverage to segment the data by themselves and then extract the features from time windows segmented by the user."
   ]
  },
  {
   "cell_type": "code",
   "execution_count": 11,
   "metadata": {},
   "outputs": [],
   "source": [
    "#Extract a short time window to build the example\n",
    "from datetime import datetime\n",
    "Peaks_Valleys['TimeStamp_PV'] = pd.to_datetime(Peaks_Valleys['TimeStamp_PV'])\n",
    "start=Peaks_Valleys['TimeStamp_PV'].min()\n",
    "end=pd.to_datetime(start + pd.to_timedelta(int(60), unit='s'))\n",
    "Peaks_ValleysF=Peaks_Valleys[(Peaks_Valleys['TimeStamp_PV'] >= start) & (Peaks_Valleys['TimeStamp_PV']<=end)]\n"
   ]
  },
  {
   "cell_type": "markdown",
   "metadata": {},
   "source": [
    "### <font color='green'>Package Name:  RespFeatureExtractFromSingleWindow</font>\n",
    "The name of the subpackage is RespFeatureExtractFromSingleWindow and returns an array of features extracted from the given time window.\n",
    "\n",
    "__Input parameters are as follows:\n",
    "\n",
    "__PV__ (required): is the pandas dataframe name containing peaks and valleys label. Peaks should be labeled as 1 and valleys as -1.   \n",
    "__Peak_Valley_Label__ (required): Takes the name of the column same which contains labels for peaks and valleys.  \n",
    "__Sig_val_Col__ (required): Takes the name of the column which has corresponding signal values for peaks and valleys.  __timestamp_col__ (required): Take s the name of the column containing the timestamps for the corresponding peaks and valleys. \n",
    "\n"
   ]
  },
  {
   "cell_type": "code",
   "execution_count": 13,
   "metadata": {},
   "outputs": [
    {
     "name": "stdout",
     "output_type": "stream",
     "text": [
      "[Timestamp('2019-03-01 01:55:25.535000'), Timestamp('2019-03-01 01:56:22.830000'), 0.5031774041031652, 0.2558333333333333, 1.2200000000000002, 16, 0.9898865160701787, 0.38093828622169607, 0.21910696134339047]\n"
     ]
    },
    {
     "name": "stderr",
     "output_type": "stream",
     "text": [
      "/opt/conda/lib/python3.7/site-packages/RespFeatureExtractor/FeatureExtractor/ExtractFeatures.py:51: SettingWithCopyWarning:\n",
      "\n",
      "\n",
      "A value is trying to be set on a copy of a slice from a DataFrame.\n",
      "Try using .loc[row_indexer,col_indexer] = value instead\n",
      "\n",
      "See the caveats in the documentation: http://pandas.pydata.org/pandas-docs/stable/user_guide/indexing.html#returning-a-view-versus-a-copy\n",
      "\n"
     ]
    }
   ],
   "source": [
    "# Extracting features from just one given segmented time window\n",
    "from RespFeatureExtractor import RespFeatureExtractFromSingleWindow\n",
    "\n",
    "x=[]\n",
    "x=RespFeatureExtractFromSingleWindow(PV=Peaks_ValleysF,Peak_Valley_Label='Label_PV',Sig_val_Col='SignalValue_PV',timestamp_col='TimeStamp_PV')\n",
    "\n",
    "print(x)\n"
   ]
  }
 ],
 "metadata": {
  "kernelspec": {
   "display_name": "Python 3",
   "language": "python",
   "name": "python3"
  },
  "language_info": {
   "codemirror_mode": {
    "name": "ipython",
    "version": 3
   },
   "file_extension": ".py",
   "mimetype": "text/x-python",
   "name": "python",
   "nbconvert_exporter": "python",
   "pygments_lexer": "ipython3",
   "version": "3.7.3"
  }
 },
 "nbformat": 4,
 "nbformat_minor": 2
}
